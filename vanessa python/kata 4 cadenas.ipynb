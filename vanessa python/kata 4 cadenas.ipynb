{
 "cells": [
  {
   "cell_type": "markdown",
   "metadata": {},
   "source": [
    "# CADENAS 1"
   ]
  },
  {
   "cell_type": "code",
   "execution_count": 54,
   "metadata": {},
   "outputs": [
    {
     "name": "stdout",
     "output_type": "stream",
     "text": [
      "Interesting facts about the Moon\n",
      " The Moon is Earth's only satellite\n",
      " There are several interesting facts about the Moon and how it affects life here on Earth\n",
      " On average, the Moon moves 4cm away from the Earth every year\n",
      " This yearl\n",
      " There are several interesting facts about the Moon and how it affects life here on Earth\n",
      " On average, the Moon moves 4cm away from the Earth every year\n"
     ]
    }
   ],
   "source": [
    "text = \"\"\"Interesting facts about the Moon. The Moon is Earth's only satellite. There are several interesting facts about the Moon and how it affects life here on Earth. On average, the Moon moves 4cm away from the Earth every year. This yearl\"\"\"\n",
    "\n",
    "partes = text = text.split('.')\n",
    "partes\n",
    " \n",
    "key_words= [\"average\", \"temperature\", \"distance\",\"interesting\", \"earth\"]\n",
    "\n",
    "for sentence in partes:\n",
    "  for key_word in partes:\n",
    "    if key_word in sentence:\n",
    "      print(sentence)\n",
    "      break\n",
    "\n",
    "for sentence in partes:\n",
    "    for key_word in key_words:\n",
    "       if key_word in sentence:\n",
    "         print(sentence.replace(' C', ' Celsius'))\n",
    "         break\n"
   ]
  },
  {
   "cell_type": "markdown",
   "metadata": {},
   "source": [
    "# Formateo de cadenas"
   ]
  },
  {
   "cell_type": "code",
   "execution_count": 125,
   "metadata": {},
   "outputs": [
    {
     "name": "stdout",
     "output_type": "stream",
     "text": [
      " Gravity On Moon And Earth \n",
      "--------------------------------------------- \n",
      "Name of the planet: Earth \n",
      "Gravity on Moon: 1.6199999999999999 m/s2 \n",
      " Gravity On Moon And Earth \n",
      "--------------------------------------------- \n",
      "Name of the planet: Earth \n",
      "Gravity on Moon: 1.6199999999999999 m/s2 \n",
      "\n",
      "Gravity data on: Ganímedes \n",
      "---------------------------------------------\n",
      "Name of planet:Mars\n",
      "Gravity on Ganímedes: 0.00143 m/s2\n",
      "\n"
     ]
    }
   ],
   "source": [
    "name = 'Moon'\n",
    "gravity = 0.00162\n",
    "planet = 'Earth'\n",
    "planet2= 'Mars'\n",
    "gravity2  = 0.00143\n",
    "name2 = 'Ganímedes'\n",
    "\n",
    "title = f'Gravity on {name} and {planet}'\n",
    "\n",
    "multiline = f\"\"\"{'-'*45} \n",
    "Name of the planet: {planet} \n",
    "Gravity on {name}: {gravity * 1000} m/s2\"\"\"\n",
    "\n",
    "\n",
    "template = f' {title.title()} \\n{multiline} '\n",
    "print(template)\n",
    "\n",
    "print(template)\n",
    "new_template = f\"\"\"\n",
    "Gravity data on: {name2} \\n{'-'*45}\n",
    "Name of planet:{planet2}\n",
    "Gravity on {name2}: {gravity2} m/s2\n",
    "\"\"\"\n",
    "print(new_template.format(name2=name2, planet2=planet2, gravity2=gravity2))\n"
   ]
  }
 ],
 "metadata": {
  "interpreter": {
   "hash": "4e35fe89c123769aea2e17639aa854b39a3fc855ab009d90aa556ab43868b3fa"
  },
  "kernelspec": {
   "display_name": "Python 3.9.10 64-bit (windows store)",
   "language": "python",
   "name": "python3"
  },
  "language_info": {
   "codemirror_mode": {
    "name": "ipython",
    "version": 3
   },
   "file_extension": ".py",
   "mimetype": "text/x-python",
   "name": "python",
   "nbconvert_exporter": "python",
   "pygments_lexer": "ipython3",
   "version": "3.9.10"
  },
  "orig_nbformat": 4
 },
 "nbformat": 4,
 "nbformat_minor": 2
}
