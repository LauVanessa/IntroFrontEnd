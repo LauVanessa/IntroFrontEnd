{
 "cells": [
  {
   "cell_type": "markdown",
   "metadata": {},
   "source": [
    "# Diferencias de distancias al Sol"
   ]
  },
  {
   "cell_type": "code",
   "execution_count": 55,
   "metadata": {},
   "outputs": [
    {
     "name": "stdout",
     "output_type": "stream",
     "text": [
      "628949330\n",
      "390577533.93\n",
      "La distancia en km es: -4345500000\n",
      "KM a Mi:\n",
      "2698555500.0\n"
     ]
    }
   ],
   "source": [
    "\n",
    "planeta1=149597870\n",
    "planeta2=778547200\n",
    "\n",
    "kmdistancia = planeta2 -planeta1\n",
    "print (kmdistancia)\n",
    "\n",
    "midistancia=(kmdistancia*0.621)\n",
    "print(midistancia)\n",
    "\n",
    "planeta1=input('Introduzca la distancia del sol para el primer planeta ')\n",
    "planeta2=input('Introduzca la distancia desde el sol para el segundo planeta')\n",
    "\n",
    "planeta1= int(planeta1)\n",
    "planeta2= int(planeta2)\n",
    "\n",
    "\n",
    "kmdistancia=planeta2-planeta1\n",
    "print('La distancia en km es:',kmdistancia) \n",
    "\n",
    "midistancia=kmdistancia*0.621\n",
    "print('KM a Mi:')\n",
    "print(abs(midistancia))\n",
    "\n"
   ]
  },
  {
   "cell_type": "code",
   "execution_count": null,
   "metadata": {},
   "outputs": [],
   "source": []
  }
 ],
 "metadata": {
  "interpreter": {
   "hash": "4e35fe89c123769aea2e17639aa854b39a3fc855ab009d90aa556ab43868b3fa"
  },
  "kernelspec": {
   "display_name": "Python 3.9.10 64-bit (windows store)",
   "language": "python",
   "name": "python3"
  },
  "language_info": {
   "codemirror_mode": {
    "name": "ipython",
    "version": 3
   },
   "file_extension": ".py",
   "mimetype": "text/x-python",
   "name": "python",
   "nbconvert_exporter": "python",
   "pygments_lexer": "ipython3",
   "version": "3.9.10"
  },
  "orig_nbformat": 4
 },
 "nbformat": 4,
 "nbformat_minor": 2
}
